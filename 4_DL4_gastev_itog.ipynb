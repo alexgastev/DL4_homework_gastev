{
  "nbformat": 4,
  "nbformat_minor": 0,
  "metadata": {
    "colab": {
      "provenance": []
    },
    "kernelspec": {
      "name": "python3",
      "display_name": "Python 3"
    },
    "language_info": {
      "name": "python"
    }
  },
  "cells": [
    {
      "cell_type": "markdown",
      "source": [
        "# **Свод результатов 4-х моделей**"
      ],
      "metadata": {
        "id": "jUSc7HoyNJ9w"
      }
    },
    {
      "cell_type": "code",
      "execution_count": 1,
      "metadata": {
        "id": "dyveog0NNGYI"
      },
      "outputs": [],
      "source": [
        "res_resnet = ([0.5592872849931109,\n",
        "  2.920964143901852,\n",
        "  0.6084141113741178,\n",
        "  0.4228865988372911,\n",
        "  0.36219063826486575,\n",
        "  0.32793642713668497,\n",
        "  0.3052651993095452,\n",
        "  0.2834788239594047,\n",
        "  0.2682398555972052,\n",
        "  0.2522743683672966],\n",
        " 0.8892021276595745)"
      ]
    },
    {
      "cell_type": "code",
      "source": [
        "res_vgg = ([1.4432402907364756,\n",
        "  0.34049793388826627,\n",
        "  0.28274171714241625,\n",
        "  0.24291649480238028,\n",
        "  0.22057752693798524,\n",
        "  0.19579807088730183,\n",
        "  0.17573105779945428,\n",
        "  0.16332276185353597,\n",
        "  0.14855184362289753,\n",
        "  0.13193407479752886],\n",
        " 0.8895744680851064)"
      ],
      "metadata": {
        "id": "1qMSXtaHNavI"
      },
      "execution_count": 2,
      "outputs": []
    },
    {
      "cell_type": "code",
      "source": [
        "res_incept = ([1.9916463370357,\n",
        "  1.3932827227166358,\n",
        "  1.2944250921154699,\n",
        "  1.246837187151537,\n",
        "  1.228338222503662,\n",
        "  1.2142893673511261,\n",
        "  1.2062765113343583,\n",
        "  1.197221033623878,\n",
        "  1.1963272633112914,\n",
        "  1.1863380768958558],\n",
        " 0.7197872340425532)"
      ],
      "metadata": {
        "id": "IbA9ZNpqNeta"
      },
      "execution_count": 3,
      "outputs": []
    },
    {
      "cell_type": "code",
      "source": [
        "res_densenet = ([1.361690619854217,\n",
        "  0.7568476708053697,\n",
        "  0.6461211147714169,\n",
        "  0.58996438222574,\n",
        "  0.5547655776544665,\n",
        "  0.5273119689048604,\n",
        "  0.5084958423452174,\n",
        "  0.49049052556355793,\n",
        "  0.4772676985990917,\n",
        "  0.4674639165486004],\n",
        " 0.8135638297872341)"
      ],
      "metadata": {
        "id": "G2k3eqCeNsJB"
      },
      "execution_count": 4,
      "outputs": []
    },
    {
      "cell_type": "code",
      "source": [
        "import pandas as pd\n",
        "import matplotlib.pyplot as plt\n",
        "import numpy as np\n",
        "import seaborn as sns"
      ],
      "metadata": {
        "id": "dYukHu27N0F1"
      },
      "execution_count": 11,
      "outputs": []
    },
    {
      "cell_type": "code",
      "source": [
        "itog = pd.DataFrame({'ResNet18': res_resnet[0], 'VGG16': res_vgg[0], 'Inception_v3': res_incept[0], 'DenseNet_161': res_densenet[0] })"
      ],
      "metadata": {
        "id": "u16iifg8N9Jf"
      },
      "execution_count": 9,
      "outputs": []
    },
    {
      "cell_type": "code",
      "source": [
        "itog"
      ],
      "metadata": {
        "colab": {
          "base_uri": "https://localhost:8080/",
          "height": 362
        },
        "id": "ewT0vCT5OIA9",
        "outputId": "8ae85800-0855-4cf5-b68a-7e6e596c0ca0"
      },
      "execution_count": 10,
      "outputs": [
        {
          "output_type": "execute_result",
          "data": {
            "text/plain": [
              "   ResNet18     VGG16  Inception_v3  DenseNet_161\n",
              "0  0.559287  1.443240      1.991646      1.361691\n",
              "1  2.920964  0.340498      1.393283      0.756848\n",
              "2  0.608414  0.282742      1.294425      0.646121\n",
              "3  0.422887  0.242916      1.246837      0.589964\n",
              "4  0.362191  0.220578      1.228338      0.554766\n",
              "5  0.327936  0.195798      1.214289      0.527312\n",
              "6  0.305265  0.175731      1.206277      0.508496\n",
              "7  0.283479  0.163323      1.197221      0.490491\n",
              "8  0.268240  0.148552      1.196327      0.477268\n",
              "9  0.252274  0.131934      1.186338      0.467464"
            ],
            "text/html": [
              "\n",
              "  <div id=\"df-aa55a26d-d9c2-4b3e-8187-de193a0adb79\" class=\"colab-df-container\">\n",
              "    <div>\n",
              "<style scoped>\n",
              "    .dataframe tbody tr th:only-of-type {\n",
              "        vertical-align: middle;\n",
              "    }\n",
              "\n",
              "    .dataframe tbody tr th {\n",
              "        vertical-align: top;\n",
              "    }\n",
              "\n",
              "    .dataframe thead th {\n",
              "        text-align: right;\n",
              "    }\n",
              "</style>\n",
              "<table border=\"1\" class=\"dataframe\">\n",
              "  <thead>\n",
              "    <tr style=\"text-align: right;\">\n",
              "      <th></th>\n",
              "      <th>ResNet18</th>\n",
              "      <th>VGG16</th>\n",
              "      <th>Inception_v3</th>\n",
              "      <th>DenseNet_161</th>\n",
              "    </tr>\n",
              "  </thead>\n",
              "  <tbody>\n",
              "    <tr>\n",
              "      <th>0</th>\n",
              "      <td>0.559287</td>\n",
              "      <td>1.443240</td>\n",
              "      <td>1.991646</td>\n",
              "      <td>1.361691</td>\n",
              "    </tr>\n",
              "    <tr>\n",
              "      <th>1</th>\n",
              "      <td>2.920964</td>\n",
              "      <td>0.340498</td>\n",
              "      <td>1.393283</td>\n",
              "      <td>0.756848</td>\n",
              "    </tr>\n",
              "    <tr>\n",
              "      <th>2</th>\n",
              "      <td>0.608414</td>\n",
              "      <td>0.282742</td>\n",
              "      <td>1.294425</td>\n",
              "      <td>0.646121</td>\n",
              "    </tr>\n",
              "    <tr>\n",
              "      <th>3</th>\n",
              "      <td>0.422887</td>\n",
              "      <td>0.242916</td>\n",
              "      <td>1.246837</td>\n",
              "      <td>0.589964</td>\n",
              "    </tr>\n",
              "    <tr>\n",
              "      <th>4</th>\n",
              "      <td>0.362191</td>\n",
              "      <td>0.220578</td>\n",
              "      <td>1.228338</td>\n",
              "      <td>0.554766</td>\n",
              "    </tr>\n",
              "    <tr>\n",
              "      <th>5</th>\n",
              "      <td>0.327936</td>\n",
              "      <td>0.195798</td>\n",
              "      <td>1.214289</td>\n",
              "      <td>0.527312</td>\n",
              "    </tr>\n",
              "    <tr>\n",
              "      <th>6</th>\n",
              "      <td>0.305265</td>\n",
              "      <td>0.175731</td>\n",
              "      <td>1.206277</td>\n",
              "      <td>0.508496</td>\n",
              "    </tr>\n",
              "    <tr>\n",
              "      <th>7</th>\n",
              "      <td>0.283479</td>\n",
              "      <td>0.163323</td>\n",
              "      <td>1.197221</td>\n",
              "      <td>0.490491</td>\n",
              "    </tr>\n",
              "    <tr>\n",
              "      <th>8</th>\n",
              "      <td>0.268240</td>\n",
              "      <td>0.148552</td>\n",
              "      <td>1.196327</td>\n",
              "      <td>0.477268</td>\n",
              "    </tr>\n",
              "    <tr>\n",
              "      <th>9</th>\n",
              "      <td>0.252274</td>\n",
              "      <td>0.131934</td>\n",
              "      <td>1.186338</td>\n",
              "      <td>0.467464</td>\n",
              "    </tr>\n",
              "  </tbody>\n",
              "</table>\n",
              "</div>\n",
              "    <div class=\"colab-df-buttons\">\n",
              "\n",
              "  <div class=\"colab-df-container\">\n",
              "    <button class=\"colab-df-convert\" onclick=\"convertToInteractive('df-aa55a26d-d9c2-4b3e-8187-de193a0adb79')\"\n",
              "            title=\"Convert this dataframe to an interactive table.\"\n",
              "            style=\"display:none;\">\n",
              "\n",
              "  <svg xmlns=\"http://www.w3.org/2000/svg\" height=\"24px\" viewBox=\"0 -960 960 960\">\n",
              "    <path d=\"M120-120v-720h720v720H120Zm60-500h600v-160H180v160Zm220 220h160v-160H400v160Zm0 220h160v-160H400v160ZM180-400h160v-160H180v160Zm440 0h160v-160H620v160ZM180-180h160v-160H180v160Zm440 0h160v-160H620v160Z\"/>\n",
              "  </svg>\n",
              "    </button>\n",
              "\n",
              "  <style>\n",
              "    .colab-df-container {\n",
              "      display:flex;\n",
              "      gap: 12px;\n",
              "    }\n",
              "\n",
              "    .colab-df-convert {\n",
              "      background-color: #E8F0FE;\n",
              "      border: none;\n",
              "      border-radius: 50%;\n",
              "      cursor: pointer;\n",
              "      display: none;\n",
              "      fill: #1967D2;\n",
              "      height: 32px;\n",
              "      padding: 0 0 0 0;\n",
              "      width: 32px;\n",
              "    }\n",
              "\n",
              "    .colab-df-convert:hover {\n",
              "      background-color: #E2EBFA;\n",
              "      box-shadow: 0px 1px 2px rgba(60, 64, 67, 0.3), 0px 1px 3px 1px rgba(60, 64, 67, 0.15);\n",
              "      fill: #174EA6;\n",
              "    }\n",
              "\n",
              "    .colab-df-buttons div {\n",
              "      margin-bottom: 4px;\n",
              "    }\n",
              "\n",
              "    [theme=dark] .colab-df-convert {\n",
              "      background-color: #3B4455;\n",
              "      fill: #D2E3FC;\n",
              "    }\n",
              "\n",
              "    [theme=dark] .colab-df-convert:hover {\n",
              "      background-color: #434B5C;\n",
              "      box-shadow: 0px 1px 3px 1px rgba(0, 0, 0, 0.15);\n",
              "      filter: drop-shadow(0px 1px 2px rgba(0, 0, 0, 0.3));\n",
              "      fill: #FFFFFF;\n",
              "    }\n",
              "  </style>\n",
              "\n",
              "    <script>\n",
              "      const buttonEl =\n",
              "        document.querySelector('#df-aa55a26d-d9c2-4b3e-8187-de193a0adb79 button.colab-df-convert');\n",
              "      buttonEl.style.display =\n",
              "        google.colab.kernel.accessAllowed ? 'block' : 'none';\n",
              "\n",
              "      async function convertToInteractive(key) {\n",
              "        const element = document.querySelector('#df-aa55a26d-d9c2-4b3e-8187-de193a0adb79');\n",
              "        const dataTable =\n",
              "          await google.colab.kernel.invokeFunction('convertToInteractive',\n",
              "                                                    [key], {});\n",
              "        if (!dataTable) return;\n",
              "\n",
              "        const docLinkHtml = 'Like what you see? Visit the ' +\n",
              "          '<a target=\"_blank\" href=https://colab.research.google.com/notebooks/data_table.ipynb>data table notebook</a>'\n",
              "          + ' to learn more about interactive tables.';\n",
              "        element.innerHTML = '';\n",
              "        dataTable['output_type'] = 'display_data';\n",
              "        await google.colab.output.renderOutput(dataTable, element);\n",
              "        const docLink = document.createElement('div');\n",
              "        docLink.innerHTML = docLinkHtml;\n",
              "        element.appendChild(docLink);\n",
              "      }\n",
              "    </script>\n",
              "  </div>\n",
              "\n",
              "\n",
              "<div id=\"df-c01d6634-d8e6-45ec-a3a7-d53dcccdc2e4\">\n",
              "  <button class=\"colab-df-quickchart\" onclick=\"quickchart('df-c01d6634-d8e6-45ec-a3a7-d53dcccdc2e4')\"\n",
              "            title=\"Suggest charts\"\n",
              "            style=\"display:none;\">\n",
              "\n",
              "<svg xmlns=\"http://www.w3.org/2000/svg\" height=\"24px\"viewBox=\"0 0 24 24\"\n",
              "     width=\"24px\">\n",
              "    <g>\n",
              "        <path d=\"M19 3H5c-1.1 0-2 .9-2 2v14c0 1.1.9 2 2 2h14c1.1 0 2-.9 2-2V5c0-1.1-.9-2-2-2zM9 17H7v-7h2v7zm4 0h-2V7h2v10zm4 0h-2v-4h2v4z\"/>\n",
              "    </g>\n",
              "</svg>\n",
              "  </button>\n",
              "\n",
              "<style>\n",
              "  .colab-df-quickchart {\n",
              "      --bg-color: #E8F0FE;\n",
              "      --fill-color: #1967D2;\n",
              "      --hover-bg-color: #E2EBFA;\n",
              "      --hover-fill-color: #174EA6;\n",
              "      --disabled-fill-color: #AAA;\n",
              "      --disabled-bg-color: #DDD;\n",
              "  }\n",
              "\n",
              "  [theme=dark] .colab-df-quickchart {\n",
              "      --bg-color: #3B4455;\n",
              "      --fill-color: #D2E3FC;\n",
              "      --hover-bg-color: #434B5C;\n",
              "      --hover-fill-color: #FFFFFF;\n",
              "      --disabled-bg-color: #3B4455;\n",
              "      --disabled-fill-color: #666;\n",
              "  }\n",
              "\n",
              "  .colab-df-quickchart {\n",
              "    background-color: var(--bg-color);\n",
              "    border: none;\n",
              "    border-radius: 50%;\n",
              "    cursor: pointer;\n",
              "    display: none;\n",
              "    fill: var(--fill-color);\n",
              "    height: 32px;\n",
              "    padding: 0;\n",
              "    width: 32px;\n",
              "  }\n",
              "\n",
              "  .colab-df-quickchart:hover {\n",
              "    background-color: var(--hover-bg-color);\n",
              "    box-shadow: 0 1px 2px rgba(60, 64, 67, 0.3), 0 1px 3px 1px rgba(60, 64, 67, 0.15);\n",
              "    fill: var(--button-hover-fill-color);\n",
              "  }\n",
              "\n",
              "  .colab-df-quickchart-complete:disabled,\n",
              "  .colab-df-quickchart-complete:disabled:hover {\n",
              "    background-color: var(--disabled-bg-color);\n",
              "    fill: var(--disabled-fill-color);\n",
              "    box-shadow: none;\n",
              "  }\n",
              "\n",
              "  .colab-df-spinner {\n",
              "    border: 2px solid var(--fill-color);\n",
              "    border-color: transparent;\n",
              "    border-bottom-color: var(--fill-color);\n",
              "    animation:\n",
              "      spin 1s steps(1) infinite;\n",
              "  }\n",
              "\n",
              "  @keyframes spin {\n",
              "    0% {\n",
              "      border-color: transparent;\n",
              "      border-bottom-color: var(--fill-color);\n",
              "      border-left-color: var(--fill-color);\n",
              "    }\n",
              "    20% {\n",
              "      border-color: transparent;\n",
              "      border-left-color: var(--fill-color);\n",
              "      border-top-color: var(--fill-color);\n",
              "    }\n",
              "    30% {\n",
              "      border-color: transparent;\n",
              "      border-left-color: var(--fill-color);\n",
              "      border-top-color: var(--fill-color);\n",
              "      border-right-color: var(--fill-color);\n",
              "    }\n",
              "    40% {\n",
              "      border-color: transparent;\n",
              "      border-right-color: var(--fill-color);\n",
              "      border-top-color: var(--fill-color);\n",
              "    }\n",
              "    60% {\n",
              "      border-color: transparent;\n",
              "      border-right-color: var(--fill-color);\n",
              "    }\n",
              "    80% {\n",
              "      border-color: transparent;\n",
              "      border-right-color: var(--fill-color);\n",
              "      border-bottom-color: var(--fill-color);\n",
              "    }\n",
              "    90% {\n",
              "      border-color: transparent;\n",
              "      border-bottom-color: var(--fill-color);\n",
              "    }\n",
              "  }\n",
              "</style>\n",
              "\n",
              "  <script>\n",
              "    async function quickchart(key) {\n",
              "      const quickchartButtonEl =\n",
              "        document.querySelector('#' + key + ' button');\n",
              "      quickchartButtonEl.disabled = true;  // To prevent multiple clicks.\n",
              "      quickchartButtonEl.classList.add('colab-df-spinner');\n",
              "      try {\n",
              "        const charts = await google.colab.kernel.invokeFunction(\n",
              "            'suggestCharts', [key], {});\n",
              "      } catch (error) {\n",
              "        console.error('Error during call to suggestCharts:', error);\n",
              "      }\n",
              "      quickchartButtonEl.classList.remove('colab-df-spinner');\n",
              "      quickchartButtonEl.classList.add('colab-df-quickchart-complete');\n",
              "    }\n",
              "    (() => {\n",
              "      let quickchartButtonEl =\n",
              "        document.querySelector('#df-c01d6634-d8e6-45ec-a3a7-d53dcccdc2e4 button');\n",
              "      quickchartButtonEl.style.display =\n",
              "        google.colab.kernel.accessAllowed ? 'block' : 'none';\n",
              "    })();\n",
              "  </script>\n",
              "</div>\n",
              "    </div>\n",
              "  </div>\n"
            ]
          },
          "metadata": {},
          "execution_count": 10
        }
      ]
    },
    {
      "cell_type": "code",
      "source": [
        "sns.lineplot(data=itog, palette=\"tab10\", linewidth=2.5).set(\n",
        "    title=\"Loss changes over epochs\")\n",
        "None"
      ],
      "metadata": {
        "colab": {
          "base_uri": "https://localhost:8080/",
          "height": 452
        },
        "id": "QMWUQ9PeOIwE",
        "outputId": "9b00b772-33ae-4cb7-9c3c-cb61b890ace5"
      },
      "execution_count": 14,
      "outputs": [
        {
          "output_type": "display_data",
          "data": {
            "text/plain": [
              "<Figure size 640x480 with 1 Axes>"
            ],
            "image/png": "[encoded data removed]"
          },
          "metadata": {}
        }
      ]
    },
    {
      "cell_type": "markdown",
      "source": [
        "Из графиков видно, что буквально после 2-й эпохи результаты значительно улучшаются, и дальше уже улучшения не такие значительные, как после первых эпох. При этом наихудшие показатели функции потерь у моделей, которые были загружены pretrained и веса менялись только у последних слоев (DenseNet и Inception)"
      ],
      "metadata": {
        "id": "WpgzUgnDPevH"
      }
    },
    {
      "cell_type": "code",
      "source": [
        "total_accuracy = {'ResNet18': res_resnet[1], 'VGG16': res_vgg[1], 'Inception_v3': res_incept[1], 'DenseNet_161': res_densenet[1] }\n",
        "total_accuracy"
      ],
      "metadata": {
        "colab": {
          "base_uri": "https://localhost:8080/"
        },
        "id": "FNNryvaLO43y",
        "outputId": "f612f2e4-375d-4167-d6f1-7cfa62d0dddd"
      },
      "execution_count": 17,
      "outputs": [
        {
          "output_type": "execute_result",
          "data": {
            "text/plain": [
              "{'ResNet18': 0.8892021276595745,\n",
              " 'VGG16': 0.8895744680851064,\n",
              " 'Inception_v3': 0.7197872340425532,\n",
              " 'DenseNet_161': 0.8135638297872341}"
            ]
          },
          "metadata": {},
          "execution_count": 17
        }
      ]
    },
    {
      "cell_type": "markdown",
      "source": [
        "Точность предсказаний на тестовой выборке также показывают модели, которые были обучены с нуля"
      ],
      "metadata": {
        "id": "jxdTWIvqQOyF"
      }
    },
    {
      "cell_type": "code",
      "source": [],
      "metadata": {
        "id": "rBsV89UeQAfd"
      },
      "execution_count": null,
      "outputs": []
    }
  ]
}