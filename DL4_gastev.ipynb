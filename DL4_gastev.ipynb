{
 "cells": [
  {
   "cell_type": "code",
   "execution_count": 2,
   "id": "0066476d-aee9-4a77-84e4-f4c412f8a80a",
   "metadata": {
    "execution": {
     "iopub.execute_input": "2023-12-21T10:56:03.377144Z",
     "iopub.status.busy": "2023-12-21T10:56:03.376318Z",
     "iopub.status.idle": "2023-12-21T10:56:03.396952Z",
     "shell.execute_reply": "2023-12-21T10:56:03.396037Z",
     "shell.execute_reply.started": "2023-12-21T10:56:03.377100Z"
    }
   },
   "outputs": [],
   "source": [
    "import torch\n",
    "from torch import nn\n",
    "import torchvision as tv\n",
    "from torchsummary import summary\n",
    "import time\n",
    "import matplotlib.pyplot as plt"
   ]
  },
  {
   "cell_type": "code",
   "execution_count": 3,
   "id": "33381a0f-eaf5-476b-a6ec-8c615f63d3b9",
   "metadata": {
    "execution": {
     "iopub.execute_input": "2023-12-21T10:56:33.315680Z",
     "iopub.status.busy": "2023-12-21T10:56:33.314839Z",
     "iopub.status.idle": "2023-12-21T10:56:33.339115Z",
     "shell.execute_reply": "2023-12-21T10:56:33.338224Z",
     "shell.execute_reply.started": "2023-12-21T10:56:33.315632Z"
    }
   },
   "outputs": [],
   "source": [
    "def evaluate_accuracy(data_iter, net):\n",
    "  acc_sum, n = 0, 0\n",
    "  net.eval()\n",
    "  for X, y in data_iter:\n",
    "    X, y = X.to(device), y.to(device)\n",
    "    acc_sum += (net(X).argmax(axis=1) == y).sum()\n",
    "    n += y.shape[0]\n",
    "  return acc_sum.item() / n"
   ]
  },
  {
   "cell_type": "code",
   "execution_count": 4,
   "id": "ff92acf4-c945-4dd7-b74c-15c57212336a",
   "metadata": {
    "execution": {
     "iopub.execute_input": "2023-12-21T10:56:42.903003Z",
     "iopub.status.busy": "2023-12-21T10:56:42.902174Z",
     "iopub.status.idle": "2023-12-21T10:56:42.922168Z",
     "shell.execute_reply": "2023-12-21T10:56:42.921379Z",
     "shell.execute_reply.started": "2023-12-21T10:56:42.902965Z"
    }
   },
   "outputs": [],
   "source": [
    "def train(net, train_iter, test_iter, trainer, num_epochs):\n",
    "  net.to(device)\n",
    "  loss_list = [] # список для значений функции потерь на трейне\n",
    "  best_acc = 0 # переменная для лучшего значения accuracy\n",
    "  loss = nn.CrossEntropyLoss(reduction = 'sum')\n",
    "  net.train()\n",
    "  for epoch in range(num_epochs):\n",
    "    train_l_sum, train_acc_sum, n, start = 0.0, 0.0, 0, time.time()\n",
    "\n",
    "    for i, (X, y) in enumerate(train_iter):\n",
    "      X, y = X.to(device), y.to(device)\n",
    "      trainer.zero_grad()\n",
    "      y_hat = net(X)\n",
    "      l = loss(y_hat, y)\n",
    "      l.backward()\n",
    "      trainer.step()\n",
    "      train_l_sum += l.item()\n",
    "      train_acc_sum += (y_hat.argmax(axis=1) == y).sum().item()\n",
    "      n += y.shape[0]\n",
    "\n",
    "      if i % 100 == 0:\n",
    "          print(f\"Step {i}. time since epoch: {time.time() -  start:.3f}. \" \n",
    "                f\"Train acc: {train_acc_sum / n:.3f}. Train Loss: {train_l_sum / n:.3f}\")\n",
    "\n",
    "    test_acc = evaluate_accuracy(test_iter, net.to(device))\n",
    "    print(f'epoch {epoch + 1}, loss {train_l_sum / n}, train acc {train_acc_sum / n}, test acc {test_acc}, time {time.time() - start} sec')\n",
    "    loss_list.append(train_l_sum / n)\n",
    "    if test_acc > best_acc:\n",
    "      best_acc = test_acc\n",
    "  return loss_list, best_acc # будем возвращать список со значениями функции потерь на обучении и лучшую метрику на тесте"
   ]
  },
  {
   "cell_type": "code",
   "execution_count": 5,
   "id": "49d4aaab-4355-4727-84d3-f54f6e50a102",
   "metadata": {
    "execution": {
     "iopub.execute_input": "2023-12-21T10:56:47.886774Z",
     "iopub.status.busy": "2023-12-21T10:56:47.885898Z",
     "iopub.status.idle": "2023-12-21T10:56:48.089554Z",
     "shell.execute_reply": "2023-12-21T10:56:48.088730Z",
     "shell.execute_reply.started": "2023-12-21T10:56:47.886717Z"
    }
   },
   "outputs": [
    {
     "data": {
      "text/plain": [
       "'cuda'"
      ]
     },
     "execution_count": 5,
     "metadata": {},
     "output_type": "execute_result"
    }
   ],
   "source": [
    "device = 'cuda' if torch.cuda.is_available() else 'cpu'\n",
    "device"
   ]
  },
  {
   "cell_type": "code",
   "execution_count": 6,
   "id": "e2d7298c-e28c-45c6-88ea-b7e85219ba30",
   "metadata": {
    "execution": {
     "iopub.execute_input": "2023-12-21T10:56:57.872515Z",
     "iopub.status.busy": "2023-12-21T10:56:57.871629Z",
     "iopub.status.idle": "2023-12-21T10:59:27.059026Z",
     "shell.execute_reply": "2023-12-21T10:59:27.058195Z",
     "shell.execute_reply.started": "2023-12-21T10:56:57.872476Z"
    },
    "tags": []
   },
   "outputs": [
    {
     "name": "stdout",
     "output_type": "stream",
     "text": [
      "Downloading https://www.itl.nist.gov/iaui/vip/cs_links/EMNIST/gzip.zip to ./EMNIST/raw/gzip.zip\n"
     ]
    },
    {
     "name": "stderr",
     "output_type": "stream",
     "text": [
      "100%|██████████| 561753746/561753746 [00:34<00:00, 16333296.79it/s]\n"
     ]
    },
    {
     "name": "stdout",
     "output_type": "stream",
     "text": [
      "Extracting ./EMNIST/raw/gzip.zip to ./EMNIST/raw\n"
     ]
    }
   ],
   "source": [
    "BATCH_SIZE = 256\n",
    "transoforms = tv.transforms.Compose([\n",
    "    tv.transforms.Grayscale(3),\n",
    "    tv.transforms.Resize((224, 224)),\n",
    "    #lambda img: tv.transforms.functional.rotate(img, -90), # датасет почему-то был перевенутый и какой-то наклоненный, поэтому можно как вариант перевернуть все картинки,если будет плохая метрика\n",
    "    #lambda img: tv.transforms.functional.hflip(img),\n",
    "    tv.transforms.ToTensor()\n",
    "])\n",
    "train_dataset = tv.datasets.EMNIST('.', split='balanced', train=True, transform=transoforms, download=True)\n",
    "test_dataset = tv.datasets.EMNIST('.', split='balanced', train=False, transform=transoforms, download=True)\n",
    "train_iter = torch.utils.data.DataLoader(train_dataset, batch_size=BATCH_SIZE, shuffle=True)\n",
    "test_iter = torch.utils.data.DataLoader(test_dataset, batch_size=BATCH_SIZE)"
   ]
  },
  {
   "cell_type": "code",
   "execution_count": 7,
   "id": "55ce3166-01da-47be-b34a-d26988b9164c",
   "metadata": {
    "execution": {
     "iopub.execute_input": "2023-12-21T10:59:27.060754Z",
     "iopub.status.busy": "2023-12-21T10:59:27.060224Z",
     "iopub.status.idle": "2023-12-21T10:59:27.073138Z",
     "shell.execute_reply": "2023-12-21T10:59:27.072376Z",
     "shell.execute_reply.started": "2023-12-21T10:59:27.060725Z"
    }
   },
   "outputs": [
    {
     "name": "stdout",
     "output_type": "stream",
     "text": [
      "No of classes:  47\n",
      "List of all classes\n",
      "['0', '1', '2', '3', '4', '5', '6', '7', '8', '9', 'A', 'B', 'C', 'D', 'E', 'F', 'G', 'H', 'I', 'J', 'K', 'L', 'M', 'N', 'O', 'P', 'Q', 'R', 'S', 'T', 'U', 'V', 'W', 'X', 'Y', 'Z', 'a', 'b', 'd', 'e', 'f', 'g', 'h', 'n', 'q', 'r', 't']\n"
     ]
    }
   ],
   "source": [
    "l = train_dataset.classes\n",
    "l.sort()\n",
    "print(\"No of classes: \",len(l))\n",
    "print(\"List of all classes\")\n",
    "print(l)"
   ]
  },
  {
   "cell_type": "code",
   "execution_count": 8,
   "id": "4663e73e-5911-4583-a630-5979e9098448",
   "metadata": {
    "execution": {
     "iopub.execute_input": "2023-12-21T10:59:27.075782Z",
     "iopub.status.busy": "2023-12-21T10:59:27.075211Z",
     "iopub.status.idle": "2023-12-21T10:59:27.149439Z",
     "shell.execute_reply": "2023-12-21T10:59:27.148643Z",
     "shell.execute_reply.started": "2023-12-21T10:59:27.075755Z"
    }
   },
   "outputs": [
    {
     "data": {
      "text/plain": [
       "torch.Size([3, 224, 224])"
      ]
     },
     "execution_count": 8,
     "metadata": {},
     "output_type": "execute_result"
    }
   ],
   "source": [
    "train_dataset[0][0].shape"
   ]
  },
  {
   "cell_type": "code",
   "execution_count": 9,
   "id": "791f2c80-3d26-4c31-8b88-3800ddb90d44",
   "metadata": {
    "execution": {
     "iopub.execute_input": "2023-12-21T10:59:27.151681Z",
     "iopub.status.busy": "2023-12-21T10:59:27.150856Z",
     "iopub.status.idle": "2023-12-21T10:59:27.377379Z",
     "shell.execute_reply": "2023-12-21T10:59:27.376569Z",
     "shell.execute_reply.started": "2023-12-21T10:59:27.151632Z"
    }
   },
   "outputs": [
    {
     "data": {
      "text/plain": [
       "<matplotlib.image.AxesImage at 0x7fa06e866d40>"
      ]
     },
     "execution_count": 9,
     "metadata": {},
     "output_type": "execute_result"
    },
    {
     "data": {
      "image/png": "[encoded data removed]",
      "text/plain": [
       "<Figure size 432x288 with 1 Axes>"
      ]
     },
     "metadata": {
      "needs_background": "light"
     },
     "output_type": "display_data"
    }
   ],
   "source": [
    "plt.imshow(train_dataset[0][0][0], cmap='Greys')"
   ]
  },
  {
   "cell_type": "code",
   "execution_count": 10,
   "id": "fed585c3-e1d5-4dc2-b664-5566ed6e74cc",
   "metadata": {
    "execution": {
     "iopub.execute_input": "2023-12-21T10:59:42.215157Z",
     "iopub.status.busy": "2023-12-21T10:59:42.214401Z",
     "iopub.status.idle": "2023-12-21T10:59:42.438946Z",
     "shell.execute_reply": "2023-12-21T10:59:42.438161Z",
     "shell.execute_reply.started": "2023-12-21T10:59:42.215122Z"
    }
   },
   "outputs": [
    {
     "name": "stderr",
     "output_type": "stream",
     "text": [
      "/usr/local/lib/python3.10/dist-packages/torchvision/models/_utils.py:208: UserWarning: The parameter 'pretrained' is deprecated since 0.13 and may be removed in the future, please use 'weights' instead.\n",
      "  warnings.warn(\n",
      "/usr/local/lib/python3.10/dist-packages/torchvision/models/_utils.py:223: UserWarning: Arguments other than a weight enum or `None` for 'weights' are deprecated since 0.13 and may be removed in the future. The current behavior is equivalent to passing `weights=None`.\n",
      "  warnings.warn(msg)\n"
     ]
    }
   ],
   "source": [
    "model = tv.models.resnet18(pretrained=False)"
   ]
  },
  {
   "cell_type": "code",
   "execution_count": 11,
   "id": "33900817-ba13-4bd9-acb3-ef4c5457e831",
   "metadata": {
    "execution": {
     "iopub.execute_input": "2023-12-21T10:59:49.811226Z",
     "iopub.status.busy": "2023-12-21T10:59:49.810494Z",
     "iopub.status.idle": "2023-12-21T10:59:49.824426Z",
     "shell.execute_reply": "2023-12-21T10:59:49.823688Z",
     "shell.execute_reply.started": "2023-12-21T10:59:49.811190Z"
    }
   },
   "outputs": [
    {
     "data": {
      "text/plain": [
       "ResNet(\n",
       "  (conv1): Conv2d(3, 64, kernel_size=(7, 7), stride=(2, 2), padding=(3, 3), bias=False)\n",
       "  (bn1): BatchNorm2d(64, eps=1e-05, momentum=0.1, affine=True, track_running_stats=True)\n",
       "  (relu): ReLU(inplace=True)\n",
       "  (maxpool): MaxPool2d(kernel_size=3, stride=2, padding=1, dilation=1, ceil_mode=False)\n",
       "  (layer1): Sequential(\n",
       "    (0): BasicBlock(\n",
       "      (conv1): Conv2d(64, 64, kernel_size=(3, 3), stride=(1, 1), padding=(1, 1), bias=False)\n",
       "      (bn1): BatchNorm2d(64, eps=1e-05, momentum=0.1, affine=True, track_running_stats=True)\n",
       "      (relu): ReLU(inplace=True)\n",
       "      (conv2): Conv2d(64, 64, kernel_size=(3, 3), stride=(1, 1), padding=(1, 1), bias=False)\n",
       "      (bn2): BatchNorm2d(64, eps=1e-05, momentum=0.1, affine=True, track_running_stats=True)\n",
       "    )\n",
       "    (1): BasicBlock(\n",
       "      (conv1): Conv2d(64, 64, kernel_size=(3, 3), stride=(1, 1), padding=(1, 1), bias=False)\n",
       "      (bn1): BatchNorm2d(64, eps=1e-05, momentum=0.1, affine=True, track_running_stats=True)\n",
       "      (relu): ReLU(inplace=True)\n",
       "      (conv2): Conv2d(64, 64, kernel_size=(3, 3), stride=(1, 1), padding=(1, 1), bias=False)\n",
       "      (bn2): BatchNorm2d(64, eps=1e-05, momentum=0.1, affine=True, track_running_stats=True)\n",
       "    )\n",
       "  )\n",
       "  (layer2): Sequential(\n",
       "    (0): BasicBlock(\n",
       "      (conv1): Conv2d(64, 128, kernel_size=(3, 3), stride=(2, 2), padding=(1, 1), bias=False)\n",
       "      (bn1): BatchNorm2d(128, eps=1e-05, momentum=0.1, affine=True, track_running_stats=True)\n",
       "      (relu): ReLU(inplace=True)\n",
       "      (conv2): Conv2d(128, 128, kernel_size=(3, 3), stride=(1, 1), padding=(1, 1), bias=False)\n",
       "      (bn2): BatchNorm2d(128, eps=1e-05, momentum=0.1, affine=True, track_running_stats=True)\n",
       "      (downsample): Sequential(\n",
       "        (0): Conv2d(64, 128, kernel_size=(1, 1), stride=(2, 2), bias=False)\n",
       "        (1): BatchNorm2d(128, eps=1e-05, momentum=0.1, affine=True, track_running_stats=True)\n",
       "      )\n",
       "    )\n",
       "    (1): BasicBlock(\n",
       "      (conv1): Conv2d(128, 128, kernel_size=(3, 3), stride=(1, 1), padding=(1, 1), bias=False)\n",
       "      (bn1): BatchNorm2d(128, eps=1e-05, momentum=0.1, affine=True, track_running_stats=True)\n",
       "      (relu): ReLU(inplace=True)\n",
       "      (conv2): Conv2d(128, 128, kernel_size=(3, 3), stride=(1, 1), padding=(1, 1), bias=False)\n",
       "      (bn2): BatchNorm2d(128, eps=1e-05, momentum=0.1, affine=True, track_running_stats=True)\n",
       "    )\n",
       "  )\n",
       "  (layer3): Sequential(\n",
       "    (0): BasicBlock(\n",
       "      (conv1): Conv2d(128, 256, kernel_size=(3, 3), stride=(2, 2), padding=(1, 1), bias=False)\n",
       "      (bn1): BatchNorm2d(256, eps=1e-05, momentum=0.1, affine=True, track_running_stats=True)\n",
       "      (relu): ReLU(inplace=True)\n",
       "      (conv2): Conv2d(256, 256, kernel_size=(3, 3), stride=(1, 1), padding=(1, 1), bias=False)\n",
       "      (bn2): BatchNorm2d(256, eps=1e-05, momentum=0.1, affine=True, track_running_stats=True)\n",
       "      (downsample): Sequential(\n",
       "        (0): Conv2d(128, 256, kernel_size=(1, 1), stride=(2, 2), bias=False)\n",
       "        (1): BatchNorm2d(256, eps=1e-05, momentum=0.1, affine=True, track_running_stats=True)\n",
       "      )\n",
       "    )\n",
       "    (1): BasicBlock(\n",
       "      (conv1): Conv2d(256, 256, kernel_size=(3, 3), stride=(1, 1), padding=(1, 1), bias=False)\n",
       "      (bn1): BatchNorm2d(256, eps=1e-05, momentum=0.1, affine=True, track_running_stats=True)\n",
       "      (relu): ReLU(inplace=True)\n",
       "      (conv2): Conv2d(256, 256, kernel_size=(3, 3), stride=(1, 1), padding=(1, 1), bias=False)\n",
       "      (bn2): BatchNorm2d(256, eps=1e-05, momentum=0.1, affine=True, track_running_stats=True)\n",
       "    )\n",
       "  )\n",
       "  (layer4): Sequential(\n",
       "    (0): BasicBlock(\n",
       "      (conv1): Conv2d(256, 512, kernel_size=(3, 3), stride=(2, 2), padding=(1, 1), bias=False)\n",
       "      (bn1): BatchNorm2d(512, eps=1e-05, momentum=0.1, affine=True, track_running_stats=True)\n",
       "      (relu): ReLU(inplace=True)\n",
       "      (conv2): Conv2d(512, 512, kernel_size=(3, 3), stride=(1, 1), padding=(1, 1), bias=False)\n",
       "      (bn2): BatchNorm2d(512, eps=1e-05, momentum=0.1, affine=True, track_running_stats=True)\n",
       "      (downsample): Sequential(\n",
       "        (0): Conv2d(256, 512, kernel_size=(1, 1), stride=(2, 2), bias=False)\n",
       "        (1): BatchNorm2d(512, eps=1e-05, momentum=0.1, affine=True, track_running_stats=True)\n",
       "      )\n",
       "    )\n",
       "    (1): BasicBlock(\n",
       "      (conv1): Conv2d(512, 512, kernel_size=(3, 3), stride=(1, 1), padding=(1, 1), bias=False)\n",
       "      (bn1): BatchNorm2d(512, eps=1e-05, momentum=0.1, affine=True, track_running_stats=True)\n",
       "      (relu): ReLU(inplace=True)\n",
       "      (conv2): Conv2d(512, 512, kernel_size=(3, 3), stride=(1, 1), padding=(1, 1), bias=False)\n",
       "      (bn2): BatchNorm2d(512, eps=1e-05, momentum=0.1, affine=True, track_running_stats=True)\n",
       "    )\n",
       "  )\n",
       "  (avgpool): AdaptiveAvgPool2d(output_size=(1, 1))\n",
       "  (fc): Linear(in_features=512, out_features=1000, bias=True)\n",
       ")"
      ]
     },
     "execution_count": 11,
     "metadata": {},
     "output_type": "execute_result"
    }
   ],
   "source": [
    "model"
   ]
  },
  {
   "cell_type": "code",
   "execution_count": 12,
   "id": "a5f7027f-cdd0-46fb-beaa-0f8cd5dca5da",
   "metadata": {
    "execution": {
     "iopub.execute_input": "2023-12-21T11:00:21.381521Z",
     "iopub.status.busy": "2023-12-21T11:00:21.380766Z",
     "iopub.status.idle": "2023-12-21T11:00:23.450209Z",
     "shell.execute_reply": "2023-12-21T11:00:23.449389Z",
     "shell.execute_reply.started": "2023-12-21T11:00:21.381486Z"
    }
   },
   "outputs": [
    {
     "name": "stderr",
     "output_type": "stream",
     "text": [
      "/usr/local/lib/python3.10/dist-packages/torchvision/models/_utils.py:208: UserWarning: The parameter 'pretrained' is deprecated since 0.13 and may be removed in the future, please use 'weights' instead.\n",
      "  warnings.warn(\n",
      "/usr/local/lib/python3.10/dist-packages/torchvision/models/_utils.py:223: UserWarning: Arguments other than a weight enum or `None` for 'weights' are deprecated since 0.13 and may be removed in the future. The current behavior is equivalent to passing `weights=None`.\n",
      "  warnings.warn(msg)\n"
     ]
    }
   ],
   "source": [
    "model = tv.models.vgg16(pretrained=False)"
   ]
  },
  {
   "cell_type": "code",
   "execution_count": 13,
   "id": "43a013d5-d60d-46f2-a4a9-8abed5a12bc2",
   "metadata": {
    "execution": {
     "iopub.execute_input": "2023-12-21T11:00:29.798698Z",
     "iopub.status.busy": "2023-12-21T11:00:29.797794Z",
     "iopub.status.idle": "2023-12-21T11:00:29.811989Z",
     "shell.execute_reply": "2023-12-21T11:00:29.811250Z",
     "shell.execute_reply.started": "2023-12-21T11:00:29.798658Z"
    },
    "tags": []
   },
   "outputs": [
    {
     "data": {
      "text/plain": [
       "VGG(\n",
       "  (features): Sequential(\n",
       "    (0): Conv2d(3, 64, kernel_size=(3, 3), stride=(1, 1), padding=(1, 1))\n",
       "    (1): ReLU(inplace=True)\n",
       "    (2): Conv2d(64, 64, kernel_size=(3, 3), stride=(1, 1), padding=(1, 1))\n",
       "    (3): ReLU(inplace=True)\n",
       "    (4): MaxPool2d(kernel_size=2, stride=2, padding=0, dilation=1, ceil_mode=False)\n",
       "    (5): Conv2d(64, 128, kernel_size=(3, 3), stride=(1, 1), padding=(1, 1))\n",
       "    (6): ReLU(inplace=True)\n",
       "    (7): Conv2d(128, 128, kernel_size=(3, 3), stride=(1, 1), padding=(1, 1))\n",
       "    (8): ReLU(inplace=True)\n",
       "    (9): MaxPool2d(kernel_size=2, stride=2, padding=0, dilation=1, ceil_mode=False)\n",
       "    (10): Conv2d(128, 256, kernel_size=(3, 3), stride=(1, 1), padding=(1, 1))\n",
       "    (11): ReLU(inplace=True)\n",
       "    (12): Conv2d(256, 256, kernel_size=(3, 3), stride=(1, 1), padding=(1, 1))\n",
       "    (13): ReLU(inplace=True)\n",
       "    (14): Conv2d(256, 256, kernel_size=(3, 3), stride=(1, 1), padding=(1, 1))\n",
       "    (15): ReLU(inplace=True)\n",
       "    (16): MaxPool2d(kernel_size=2, stride=2, padding=0, dilation=1, ceil_mode=False)\n",
       "    (17): Conv2d(256, 512, kernel_size=(3, 3), stride=(1, 1), padding=(1, 1))\n",
       "    (18): ReLU(inplace=True)\n",
       "    (19): Conv2d(512, 512, kernel_size=(3, 3), stride=(1, 1), padding=(1, 1))\n",
       "    (20): ReLU(inplace=True)\n",
       "    (21): Conv2d(512, 512, kernel_size=(3, 3), stride=(1, 1), padding=(1, 1))\n",
       "    (22): ReLU(inplace=True)\n",
       "    (23): MaxPool2d(kernel_size=2, stride=2, padding=0, dilation=1, ceil_mode=False)\n",
       "    (24): Conv2d(512, 512, kernel_size=(3, 3), stride=(1, 1), padding=(1, 1))\n",
       "    (25): ReLU(inplace=True)\n",
       "    (26): Conv2d(512, 512, kernel_size=(3, 3), stride=(1, 1), padding=(1, 1))\n",
       "    (27): ReLU(inplace=True)\n",
       "    (28): Conv2d(512, 512, kernel_size=(3, 3), stride=(1, 1), padding=(1, 1))\n",
       "    (29): ReLU(inplace=True)\n",
       "    (30): MaxPool2d(kernel_size=2, stride=2, padding=0, dilation=1, ceil_mode=False)\n",
       "  )\n",
       "  (avgpool): AdaptiveAvgPool2d(output_size=(7, 7))\n",
       "  (classifier): Sequential(\n",
       "    (0): Linear(in_features=25088, out_features=4096, bias=True)\n",
       "    (1): ReLU(inplace=True)\n",
       "    (2): Dropout(p=0.5, inplace=False)\n",
       "    (3): Linear(in_features=4096, out_features=4096, bias=True)\n",
       "    (4): ReLU(inplace=True)\n",
       "    (5): Dropout(p=0.5, inplace=False)\n",
       "    (6): Linear(in_features=4096, out_features=1000, bias=True)\n",
       "  )\n",
       ")"
      ]
     },
     "execution_count": 13,
     "metadata": {},
     "output_type": "execute_result"
    }
   ],
   "source": [
    "model"
   ]
  },
  {
   "cell_type": "code",
   "execution_count": 15,
   "id": "269c334c-78dd-42ad-a701-3c7cdc3c3a8d",
   "metadata": {
    "execution": {
     "iopub.execute_input": "2023-12-21T11:00:53.924236Z",
     "iopub.status.busy": "2023-12-21T11:00:53.923354Z",
     "iopub.status.idle": "2023-12-21T11:00:53.940623Z",
     "shell.execute_reply": "2023-12-21T11:00:53.939757Z",
     "shell.execute_reply.started": "2023-12-21T11:00:53.924190Z"
    },
    "tags": []
   },
   "outputs": [
    {
     "data": {
      "text/plain": [
       "Sequential(\n",
       "  (0): Linear(in_features=25088, out_features=4096, bias=True)\n",
       "  (1): ReLU(inplace=True)\n",
       "  (2): Dropout(p=0.5, inplace=False)\n",
       "  (3): Linear(in_features=4096, out_features=4096, bias=True)\n",
       "  (4): ReLU(inplace=True)\n",
       "  (5): Dropout(p=0.5, inplace=False)\n",
       "  (6): Linear(in_features=4096, out_features=1000, bias=True)\n",
       ")"
      ]
     },
     "execution_count": 15,
     "metadata": {},
     "output_type": "execute_result"
    }
   ],
   "source": [
    "model.classifier"
   ]
  },
  {
   "cell_type": "code",
   "execution_count": 16,
   "id": "c8b81ea8-3fa2-42b3-9d87-74829b96aa36",
   "metadata": {
    "execution": {
     "iopub.execute_input": "2023-12-21T11:01:02.095571Z",
     "iopub.status.busy": "2023-12-21T11:01:02.094647Z",
     "iopub.status.idle": "2023-12-21T11:01:03.097484Z",
     "shell.execute_reply": "2023-12-21T11:01:03.096596Z",
     "shell.execute_reply.started": "2023-12-21T11:01:02.095520Z"
    }
   },
   "outputs": [],
   "source": [
    "model.classifier = nn.Sequential(\n",
    "    nn.Linear(in_features=25088, out_features=4096, bias=True),\n",
    "    nn.ReLU(inplace=True),\n",
    "    nn.Dropout(p=0.5, inplace=False),\n",
    "    nn.Linear(in_features=4096, out_features=4096, bias=True),\n",
    "    nn.ReLU(inplace=True),\n",
    "    nn.Dropout(p=0.5, inplace=False),\n",
    "    nn.Linear(in_features=4096, out_features=47, bias=True)\n",
    ")"
   ]
  },
  {
   "cell_type": "code",
   "execution_count": 17,
   "id": "75e45427-971f-41da-8149-c2564d8f6a55",
   "metadata": {
    "execution": {
     "iopub.execute_input": "2023-12-21T11:01:10.949945Z",
     "iopub.status.busy": "2023-12-21T11:01:10.949097Z",
     "iopub.status.idle": "2023-12-21T11:01:10.987420Z",
     "shell.execute_reply": "2023-12-21T11:01:10.986397Z",
     "shell.execute_reply.started": "2023-12-21T11:01:10.949905Z"
    }
   },
   "outputs": [
    {
     "name": "stdout",
     "output_type": "stream",
     "text": [
      "Params to learn:\n",
      "\t features.0.weight\n",
      "\t features.0.bias\n",
      "\t features.2.weight\n",
      "\t features.2.bias\n",
      "\t features.5.weight\n",
      "\t features.5.bias\n",
      "\t features.7.weight\n",
      "\t features.7.bias\n",
      "\t features.10.weight\n",
      "\t features.10.bias\n",
      "\t features.12.weight\n",
      "\t features.12.bias\n",
      "\t features.14.weight\n",
      "\t features.14.bias\n",
      "\t features.17.weight\n",
      "\t features.17.bias\n",
      "\t features.19.weight\n",
      "\t features.19.bias\n",
      "\t features.21.weight\n",
      "\t features.21.bias\n",
      "\t features.24.weight\n",
      "\t features.24.bias\n",
      "\t features.26.weight\n",
      "\t features.26.bias\n",
      "\t features.28.weight\n",
      "\t features.28.bias\n",
      "\t classifier.0.weight\n",
      "\t classifier.0.bias\n",
      "\t classifier.3.weight\n",
      "\t classifier.3.bias\n",
      "\t classifier.6.weight\n",
      "\t classifier.6.bias\n"
     ]
    }
   ],
   "source": [
    "print(\"Params to learn:\")\n",
    "params_to_update = []\n",
    "for name, param in model.named_parameters():\n",
    "    if param.requires_grad == True:\n",
    "        params_to_update.append(param)\n",
    "        print(\"\\t\",name)"
   ]
  },
  {
   "cell_type": "code",
   "execution_count": 18,
   "id": "206a8684-40be-4a19-b7fc-184a3b6ff218",
   "metadata": {
    "execution": {
     "iopub.execute_input": "2023-12-21T11:01:17.797052Z",
     "iopub.status.busy": "2023-12-21T11:01:17.796311Z",
     "iopub.status.idle": "2023-12-21T11:01:17.808085Z",
     "shell.execute_reply": "2023-12-21T11:01:17.807287Z",
     "shell.execute_reply.started": "2023-12-21T11:01:17.797011Z"
    }
   },
   "outputs": [],
   "source": [
    "trainer = torch.optim.Adam(params_to_update, lr=0.001)"
   ]
  },
  {
   "cell_type": "code",
   "execution_count": 19,
   "id": "28263c4e-2288-4752-ae1c-9aca03bc16a1",
   "metadata": {
    "execution": {
     "iopub.execute_input": "2023-12-21T11:01:28.452660Z",
     "iopub.status.busy": "2023-12-21T11:01:28.451937Z",
     "iopub.status.idle": "2023-12-21T12:43:15.873089Z",
     "shell.execute_reply": "2023-12-21T12:43:15.871996Z",
     "shell.execute_reply.started": "2023-12-21T11:01:28.452625Z"
    }
   },
   "outputs": [
    {
     "name": "stdout",
     "output_type": "stream",
     "text": [
      "Step 0. time since epoch: 16.434. Train acc: 0.023. Train Loss: 3.849\n",
      "Step 100. time since epoch: 148.836. Train acc: 0.277. Train Loss: 4.344\n",
      "Step 200. time since epoch: 281.531. Train acc: 0.515. Train Loss: 2.550\n",
      "Step 300. time since epoch: 413.952. Train acc: 0.613. Train Loss: 1.889\n",
      "Step 400. time since epoch: 546.384. Train acc: 0.669. Train Loss: 1.540\n",
      "epoch 1, loss 1.4432402907364756, train acc 0.6843971631205674, test acc 0.8606382978723405, time 625.4750680923462 sec\n",
      "Step 0. time since epoch: 1.315. Train acc: 0.902. Train Loss: 0.234\n",
      "Step 100. time since epoch: 133.193. Train acc: 0.874. Train Loss: 0.351\n",
      "Step 200. time since epoch: 265.025. Train acc: 0.877. Train Loss: 0.345\n",
      "Step 300. time since epoch: 396.929. Train acc: 0.876. Train Loss: 0.346\n",
      "Step 400. time since epoch: 528.959. Train acc: 0.877. Train Loss: 0.342\n",
      "epoch 2, loss 0.34049793388826627, train acc 0.8772517730496454, test acc 0.8673936170212766, time 607.7992527484894 sec\n",
      "Step 0. time since epoch: 1.320. Train acc: 0.895. Train Loss: 0.287\n",
      "Step 100. time since epoch: 133.305. Train acc: 0.895. Train Loss: 0.274\n",
      "Step 200. time since epoch: 265.151. Train acc: 0.893. Train Loss: 0.281\n",
      "Step 300. time since epoch: 397.113. Train acc: 0.893. Train Loss: 0.280\n",
      "Step 400. time since epoch: 529.153. Train acc: 0.893. Train Loss: 0.282\n",
      "epoch 3, loss 0.28274171714241625, train acc 0.8932712765957447, test acc 0.8825, time 608.1062693595886 sec\n",
      "Step 0. time since epoch: 1.317. Train acc: 0.918. Train Loss: 0.209\n",
      "Step 100. time since epoch: 133.322. Train acc: 0.909. Train Loss: 0.230\n",
      "Step 200. time since epoch: 265.329. Train acc: 0.908. Train Loss: 0.234\n",
      "Step 300. time since epoch: 397.379. Train acc: 0.907. Train Loss: 0.238\n",
      "Step 400. time since epoch: 529.466. Train acc: 0.905. Train Loss: 0.242\n",
      "epoch 4, loss 0.24291649480238028, train acc 0.9051329787234043, test acc 0.8895744680851064, time 608.3596565723419 sec\n",
      "Step 0. time since epoch: 1.317. Train acc: 0.930. Train Loss: 0.181\n",
      "Step 100. time since epoch: 133.196. Train acc: 0.914. Train Loss: 0.210\n",
      "Step 200. time since epoch: 265.147. Train acc: 0.915. Train Loss: 0.211\n",
      "Step 300. time since epoch: 397.051. Train acc: 0.913. Train Loss: 0.216\n",
      "Step 400. time since epoch: 528.829. Train acc: 0.912. Train Loss: 0.221\n",
      "epoch 5, loss 0.22057752693798524, train acc 0.911959219858156, test acc 0.8839893617021276, time 607.5784108638763 sec\n",
      "Step 0. time since epoch: 1.314. Train acc: 0.918. Train Loss: 0.203\n",
      "Step 100. time since epoch: 133.078. Train acc: 0.926. Train Loss: 0.184\n",
      "Step 200. time since epoch: 264.850. Train acc: 0.923. Train Loss: 0.189\n",
      "Step 300. time since epoch: 396.663. Train acc: 0.922. Train Loss: 0.192\n",
      "Step 400. time since epoch: 528.655. Train acc: 0.921. Train Loss: 0.194\n",
      "epoch 6, loss 0.19579807088730183, train acc 0.920177304964539, test acc 0.8836170212765957, time 607.5132939815521 sec\n",
      "Step 0. time since epoch: 1.322. Train acc: 0.945. Train Loss: 0.136\n",
      "Step 100. time since epoch: 133.206. Train acc: 0.931. Train Loss: 0.164\n",
      "Step 200. time since epoch: 265.136. Train acc: 0.930. Train Loss: 0.167\n",
      "Step 300. time since epoch: 397.028. Train acc: 0.928. Train Loss: 0.173\n",
      "Step 400. time since epoch: 528.940. Train acc: 0.927. Train Loss: 0.174\n",
      "epoch 7, loss 0.17573105779945428, train acc 0.9263297872340426, test acc 0.8820744680851064, time 607.8087501525879 sec\n",
      "Step 0. time since epoch: 1.333. Train acc: 0.961. Train Loss: 0.106\n",
      "Step 100. time since epoch: 133.237. Train acc: 0.937. Train Loss: 0.148\n",
      "Step 200. time since epoch: 265.187. Train acc: 0.935. Train Loss: 0.154\n",
      "Step 300. time since epoch: 397.190. Train acc: 0.934. Train Loss: 0.160\n",
      "Step 400. time since epoch: 529.217. Train acc: 0.932. Train Loss: 0.163\n",
      "epoch 8, loss 0.16332276185353597, train acc 0.9322251773049646, test acc 0.8798404255319149, time 608.2083642482758 sec\n",
      "Step 0. time since epoch: 1.318. Train acc: 0.934. Train Loss: 0.148\n",
      "Step 100. time since epoch: 133.384. Train acc: 0.943. Train Loss: 0.139\n",
      "Step 200. time since epoch: 265.401. Train acc: 0.941. Train Loss: 0.143\n",
      "Step 300. time since epoch: 397.506. Train acc: 0.940. Train Loss: 0.146\n",
      "Step 400. time since epoch: 529.603. Train acc: 0.939. Train Loss: 0.147\n",
      "epoch 9, loss 0.14855184362289753, train acc 0.9388120567375886, test acc 0.874468085106383, time 608.5503978729248 sec\n",
      "Step 0. time since epoch: 1.319. Train acc: 0.969. Train Loss: 0.099\n",
      "Step 100. time since epoch: 133.215. Train acc: 0.951. Train Loss: 0.121\n",
      "Step 200. time since epoch: 265.234. Train acc: 0.949. Train Loss: 0.125\n",
      "Step 300. time since epoch: 397.356. Train acc: 0.948. Train Loss: 0.128\n",
      "Step 400. time since epoch: 529.447. Train acc: 0.946. Train Loss: 0.130\n",
      "epoch 10, loss 0.13193407479752886, train acc 0.9457003546099291, test acc 0.875, time 608.4308896064758 sec\n"
     ]
    }
   ],
   "source": [
    "result_vgg = train(model, train_iter, test_iter, trainer, 10) "
   ]
  },
  {
   "cell_type": "code",
   "execution_count": 20,
   "id": "ddfb700d-b213-47dc-979b-3a4a1ffcd722",
   "metadata": {
    "execution": {
     "iopub.execute_input": "2023-12-21T12:43:15.875641Z",
     "iopub.status.busy": "2023-12-21T12:43:15.874858Z",
     "iopub.status.idle": "2023-12-21T12:43:15.894481Z",
     "shell.execute_reply": "2023-12-21T12:43:15.893356Z",
     "shell.execute_reply.started": "2023-12-21T12:43:15.875597Z"
    }
   },
   "outputs": [
    {
     "data": {
      "text/plain": [
       "([1.4432402907364756,\n",
       "  0.34049793388826627,\n",
       "  0.28274171714241625,\n",
       "  0.24291649480238028,\n",
       "  0.22057752693798524,\n",
       "  0.19579807088730183,\n",
       "  0.17573105779945428,\n",
       "  0.16332276185353597,\n",
       "  0.14855184362289753,\n",
       "  0.13193407479752886],\n",
       " 0.8895744680851064)"
      ]
     },
     "execution_count": 20,
     "metadata": {},
     "output_type": "execute_result"
    }
   ],
   "source": [
    "result_vgg"
   ]
  },
  {
   "cell_type": "code",
   "execution_count": 21,
   "id": "05c5f0aa-3b36-4231-9f5d-819d2370b244",
   "metadata": {
    "execution": {
     "iopub.execute_input": "2023-12-21T12:43:15.896864Z",
     "iopub.status.busy": "2023-12-21T12:43:15.896215Z",
     "iopub.status.idle": "2023-12-21T12:43:15.918690Z",
     "shell.execute_reply": "2023-12-21T12:43:15.917717Z",
     "shell.execute_reply.started": "2023-12-21T12:43:15.896828Z"
    }
   },
   "outputs": [],
   "source": [
    "result_resnet = ([0.5592872849931109,\n",
    "  2.920964143901852,\n",
    "  0.6084141113741178,\n",
    "  0.4228865988372911,\n",
    "  0.36219063826486575,\n",
    "  0.32793642713668497,\n",
    "  0.3052651993095452,\n",
    "  0.2834788239594047,\n",
    "  0.2682398555972052,\n",
    "  0.2522743683672966],\n",
    " 0.8892021276595745)"
   ]
  },
  {
   "cell_type": "markdown",
   "id": "9bdd0ced-98fd-49e9-a8cf-77c11c7238f5",
   "metadata": {},
   "source": [
    "Inception V3"
   ]
  },
  {
   "cell_type": "code",
   "execution_count": 22,
   "id": "3de86a2b-3148-4ae5-b87b-0f12e1d4e5df",
   "metadata": {
    "execution": {
     "iopub.execute_input": "2023-12-21T12:45:35.169367Z",
     "iopub.status.busy": "2023-12-21T12:45:35.168367Z",
     "iopub.status.idle": "2023-12-21T12:45:37.214056Z",
     "shell.execute_reply": "2023-12-21T12:45:37.213121Z",
     "shell.execute_reply.started": "2023-12-21T12:45:35.169322Z"
    }
   },
   "outputs": [
    {
     "name": "stderr",
     "output_type": "stream",
     "text": [
      "/usr/local/lib/python3.10/dist-packages/torchvision/models/_utils.py:208: UserWarning: The parameter 'pretrained' is deprecated since 0.13 and may be removed in the future, please use 'weights' instead.\n",
      "  warnings.warn(\n",
      "/usr/local/lib/python3.10/dist-packages/torchvision/models/_utils.py:223: UserWarning: Arguments other than a weight enum or `None` for 'weights' are deprecated since 0.13 and may be removed in the future. The current behavior is equivalent to passing `weights=None`.\n",
      "  warnings.warn(msg)\n"
     ]
    }
   ],
   "source": [
    "model = tv.inception("
   ]
  },
  {
   "cell_type": "code",
   "execution_count": null,
   "id": "ed180139-5a33-4373-888a-eaf461ad83fd",
   "metadata": {},
   "outputs": [],
   "source": []
  }
 ],
 "metadata": {
  "kernelspec": {
   "display_name": "DataSphere Kernel",
   "language": "python",
   "name": "python3"
  },
  "language_info": {
   "codemirror_mode": {
    "name": "ipython",
    "version": 3
   },
   "file_extension": ".py",
   "mimetype": "text/x-python",
   "name": "python",
   "nbconvert_exporter": "python",
   "pygments_lexer": "ipython3",
   "version": "3.7.7"
  }
 },
 "nbformat": 4,
 "nbformat_minor": 5
}
